{
 "cells": [
  {
   "cell_type": "markdown",
   "metadata": {},
   "source": [
    "__Idenficador:__ TPC8  \n",
    "__Título do Trabalho:__ Trabalhar com Interfaces Gráficas    \n",
    "__Data de ínicio:__ 2021-11-29   \n",
    "__Data do Fim:__ 2021-12-05   \n",
    "__Supervisor:__ José Carlos Ramalho  \n",
    "__Autor:__ Luís Manuel Mendonça Gonçalves A95637  \n",
    "\n",
    "\n",
    "__Resumo:__   \n",
    "Neste trabalho foi pedido que fosse desenvolvido as capacidades de trabalhar com Interfaces Gráficas.\n",
    "Através do programa criado na aula Teorico Prática número 8 e através do módulo _PySimpleGUI_ foi criado este, fazendo com que o criado anteriormente seja mais apelativo visualmente e mais facil de ser usado."
   ]
  },
  {
   "cell_type": "code",
   "execution_count": 1,
   "metadata": {},
   "outputs": [
    {
     "data": {
      "image/png": "[encoded data removed]",
      "text/plain": [
       "<Figure size 432x288 with 1 Axes>"
      ]
     },
     "metadata": {
      "needs_background": "light"
     },
     "output_type": "display_data"
    },
    {
     "ename": "TypeError",
     "evalue": "'NoneType' object is not subscriptable",
     "output_type": "error",
     "traceback": [
      "\u001b[1;31m---------------------------------------------------------------------------\u001b[0m",
      "\u001b[1;31mTypeError\u001b[0m                                 Traceback (most recent call last)",
      "\u001b[1;32mC:\\Users\\LUSGON~1\\AppData\\Local\\Temp/ipykernel_2932/3162188939.py\u001b[0m in \u001b[0;36m<module>\u001b[1;34m\u001b[0m\n\u001b[0;32m     85\u001b[0m                 \u001b[0mwindow3\u001b[0m \u001b[1;33m=\u001b[0m \u001b[0msg\u001b[0m\u001b[1;33m.\u001b[0m\u001b[0mWindow\u001b[0m\u001b[1;33m(\u001b[0m\u001b[1;34m\"Graf\"\u001b[0m\u001b[1;33m,\u001b[0m \u001b[0mLayout\u001b[0m\u001b[1;33m,\u001b[0m \u001b[0mfinalize\u001b[0m\u001b[1;33m=\u001b[0m\u001b[1;32mTrue\u001b[0m\u001b[1;33m)\u001b[0m\u001b[1;33m\u001b[0m\u001b[1;33m\u001b[0m\u001b[0m\n\u001b[0;32m     86\u001b[0m                 \u001b[0majud\u001b[0m\u001b[1;33m=\u001b[0m\u001b[0mmain\u001b[0m\u001b[1;33m.\u001b[0m\u001b[0mplotDistrib\u001b[0m\u001b[1;33m(\u001b[0m\u001b[0mmain\u001b[0m\u001b[1;33m.\u001b[0m\u001b[0mlerDataset\u001b[0m\u001b[1;33m(\u001b[0m\u001b[0ma\u001b[0m\u001b[1;33m)\u001b[0m\u001b[1;33m,\u001b[0m\u001b[0mevent2\u001b[0m\u001b[1;33m)\u001b[0m\u001b[1;33m\u001b[0m\u001b[1;33m\u001b[0m\u001b[0m\n\u001b[1;32m---> 87\u001b[1;33m                 \u001b[0majud\u001b[0m\u001b[1;33m[\u001b[0m\u001b[1;36m0\u001b[0m\u001b[1;33m]\u001b[0m\u001b[1;33m.\u001b[0m\u001b[0mbar\u001b[0m\u001b[1;33m(\u001b[0m\u001b[0majud\u001b[0m\u001b[1;33m[\u001b[0m\u001b[1;36m1\u001b[0m\u001b[1;33m]\u001b[0m\u001b[1;33m,\u001b[0m\u001b[0majud\u001b[0m\u001b[1;33m[\u001b[0m\u001b[1;36m2\u001b[0m\u001b[1;33m]\u001b[0m\u001b[1;33m)\u001b[0m\u001b[1;33m\u001b[0m\u001b[1;33m\u001b[0m\u001b[0m\n\u001b[0m\u001b[0;32m     88\u001b[0m                 \u001b[0mwindow3\u001b[0m\u001b[1;33m[\u001b[0m\u001b[1;34m\"Grafi\"\u001b[0m\u001b[1;33m]\u001b[0m\u001b[1;33m.\u001b[0m\u001b[0mupdate\u001b[0m\u001b[1;33m(\u001b[0m\u001b[0mplt\u001b[0m\u001b[1;33m.\u001b[0m\u001b[0mshow\u001b[0m\u001b[1;33m(\u001b[0m\u001b[1;33m)\u001b[0m\u001b[1;33m)\u001b[0m\u001b[1;33m\u001b[0m\u001b[1;33m\u001b[0m\u001b[0m\n\u001b[0;32m     89\u001b[0m \u001b[1;33m\u001b[0m\u001b[0m\n",
      "\u001b[1;31mTypeError\u001b[0m: 'NoneType' object is not subscriptable"
     ]
    }
   ],
   "source": [
    "import TP8 as main\n",
    "import PySimpleGUI as sg\n",
    "import matplotlib.pyplot as plt\n",
    "menu_list_column = [\n",
    "    [sg.Button(\"Carregar BD\")],\n",
    "    [sg.Button(\"Ler BD\")],\n",
    "    [sg.Button(\"Procurar ID\")],\n",
    "    [sg.Button(\"Modalidades\")],\n",
    "    [sg.Button(\"Distribuição da BD\")],\n",
    "    [sg.Button(\"Sair\")]\n",
    "]\n",
    "\n",
    "data_viewer_column = [\n",
    "    [sg.Text(\"Painel de Dados\")],\n",
    "    [sg.Text(size=(120, 1), key=\"-Dados-\")],\n",
    "]\n",
    "\n",
    "layout = [\n",
    "    [\n",
    "        sg.Column(menu_list_column),\n",
    "        sg.VSeperator(),\n",
    "        sg.Column(data_viewer_column),\n",
    "    ]\n",
    "]\n",
    "\n",
    "window = sg.Window(\"Sample App\", layout)\n",
    "\n",
    "stop = False\n",
    "while not stop:\n",
    "    event, values = window.read()\n",
    "    if event == \"Sair\" or event == sg.WIN_CLOSED:\n",
    "        stop = True\n",
    "    # Folder name was filled in, make a list of files in the folder\n",
    "    elif event == \"Carregar BD\":  \n",
    "        window[\"-Dados-\"].update(\"Vou carregar a BD...\")\n",
    "        formLayout = [[sg.Text('Introduza a nome da BD')],\n",
    "          [sg.Text('nome', size=(10, 1)), sg.InputText(key='loc')],\n",
    "          [sg.Button('Inserir'), sg.Button('Cancelar')]]\n",
    "        \n",
    "        wform = sg.Window('Inserção de um registo', formLayout)\n",
    "        inputEvent, inputValues = wform.read(close=True)\n",
    "        wform.close()\n",
    "        a=inputValues[\"loc\"]\n",
    "        try:\n",
    "            window[\"-Dados-\"].update(\"A abrir \"+ a )\n",
    "        except FileNotFoundError:\n",
    "            window[\"-Dados-\"].update(\"Erro: evento desconhecido :: \" + inputEvent)\n",
    "    elif event ==\"Ler BD\":\n",
    "        window[\"-Dados-\"].update(\"Vou ler a BD...\")\n",
    "        sg.Print(main.listarDataset(main.lerDataset(a)))\n",
    "    elif event ==\"Procurar ID\":\n",
    "        formLayout = [[sg.Text('Introduza o ID que procura')],\n",
    "          [sg.Text('ID', size=(10, 1)), sg.InputText(key='id')],\n",
    "          [sg.Button('Inserir'), sg.Button('Cancelar')]]\n",
    "        wform = sg.Window('Inserção de um registo', formLayout)\n",
    "        inputEvent, inputValues = wform.read(close=True)\n",
    "        wform.close()\n",
    "        i=str(main.consultarDataset(main.lerDataset(a),inputValues[\"id\"]))\n",
    "        \n",
    "        if i ==\"false\":\n",
    "            window[\"-Dados-\"].update(str(\"O \" +inputValues[\"id\"]+\" não é Federado\"))\n",
    "        elif i==\"Erro\":\n",
    "            window[\"-Dados-\"].update(\"Erro: Não existe esse Id\") \n",
    "        else:\n",
    "            window[\"-Dados-\"].update(str(\"O \"+inputValues[\"id\"]+\" é Federado\"))\n",
    "    elif event ==\"Modalidades\":\n",
    "        mod=main.modalidades(main.lerDataset(a))\n",
    "        window[\"-Dados-\"].update(mod)\n",
    "    elif event ==\"Distribuição da BD\":\n",
    "        formLayout1 = [[sg.Text('Escolha a Base da distribuição')],\n",
    "          [sg.Button(\"Idade\")], [sg.Button(\"Género\")],\n",
    "          [sg.Button(\"Modalidade\")], [sg.Button(\"Clube\")],\n",
    "          [sg.Button(\"Federado\")], [sg.Button(\"Resultado\")],\n",
    "          [sg.Button('Cancelar')]]\n",
    "        window2 = sg.Window(\"Escolha Distri\", formLayout1)\n",
    "        Acabar=False\n",
    "        while not Acabar:\n",
    "            event2, values = window2.read()\n",
    "            if event == \"Cancelar\" or event == sg.WIN_CLOSED:\n",
    "                Acabar = True\n",
    "            \n",
    "            if event2!=\"Cancelar\":\n",
    "                Layout=[[sg.Text(\"Gráfico\")],\n",
    "                [sg.Text(size=(120, 1), key=\"Grafi\")]]\n",
    "                window3 = sg.Window(\"Graf\", Layout, finalize=True)\n",
    "                window.finalize()\n",
    "                window3[\"Grafi\"].update(main.plotDistrib(main.lerDataset(a),event2))\n",
    "                \n",
    "\n",
    "        window2.close()\n",
    "    else:\n",
    "        window[\"-Dados-\"].update(\"Erro: evento desconhecido :: \" + inputEvent)\n",
    "\n",
    "window.close()"
   ]
  }
 ],
 "metadata": {
  "interpreter": {
   "hash": "3cf160148158686e6c735920367402ff42da79f3b5c2ab91f9bb8aea49f4fe03"
  },
  "kernelspec": {
   "display_name": "Python 3.9.0 64-bit (system)",
   "language": "python",
   "name": "python3"
  },
  "language_info": {
   "codemirror_mode": {
    "name": "ipython",
    "version": 3
   },
   "file_extension": ".py",
   "mimetype": "text/x-python",
   "name": "python",
   "nbconvert_exporter": "python",
   "pygments_lexer": "ipython3",
   "version": "3.9.0"
  },
  "orig_nbformat": 4
 },
 "nbformat": 4,
 "nbformat_minor": 2
}
